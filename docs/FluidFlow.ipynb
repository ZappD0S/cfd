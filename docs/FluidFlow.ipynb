{
 "cells": [
  {
   "cell_type": "markdown",
   "metadata": {},
   "source": [
    "* Equazione per i fluidi non-viscosi (e incomprimili) di Eulero. ✓\n",
    "* Soluzione dell'equazione per separazione (errore commesso nella separazione). ✓\n",
    "* Parte con la pressione -> equazione discretizzata -> condizione di incomprimilita' (divergenza nulla) \n",
    "    -> equazione di Helmholtz. ✓\n",
    "* Discretizzazione della divergenza migliorata vicino ai bordi -> spiegazione dell'ulitita' di boundary_tools. ✓\n",
    "* Matrici sparse e soluzione di un sistema attraverso metodo del conjugate gradient. ~\n",
    "* Necessita' di calcolare le velocita' in punti che non si trovano sul reticolo -> interpolazione con spline 2D ✓\n",
    "* Condizioni al contorno -> p costante in inlet ed outlet, condizione di velocita' nulla nei punti confinanti con i bordi solidi imposta attraverso la pressione. Condizione delle velocita' in inlet ed outlet: velocita' fissata in inlet e condizione di costanza in outlet. ✓\n",
    "* Come vengono tenuti i considerazione i termini costanti che compaiono delle eqs del sistema. ✓\n",
    "* Derivata eseguita utilizzando maschere delle matrici che raprresentanto il campo di velocita'. ✓\n",
    "* Avvezione delle velocita': Metodo semi-lagrangiano, attraverso Runge-Kutta 4. Anche qui e' necessario trovare valori della velocita' che non si trovano sul reticolo. ✓"
   ]
  },
  {
   "cell_type": "markdown",
   "metadata": {},
   "source": [
    "Le equazioni di Eulero sono un sistema di equazioni differenziali alle derivate parziali che descrivono la dinamica di un fluido non viscoso. La forma più sintentica di scriverle è\n",
    "$$\\frac{\\partial \\boldsymbol{u}}{\\partial t} + \\boldsymbol{u} \\cdot \\nabla\\boldsymbol{u} = -\\frac{1}{\\rho}\\nabla p.$$\n",
    "Il gradiente di un vettore non è nient'altro che la matrice Jacobiana, cioè quella matrice che ha per righe i gradienti di ciascuna componente del vettore.\n",
    "[forma esplicita dell'eq?]\n",
    "Il numero di equazioni dipende ovviamente dal numero di dimensioni in cui si lavora. Solitamente vengono scritte in questo modo perché il membro di sinistra rappresenta una derivata materiale, indicata come $ \\frac{D \\boldsymbol{u}}{D t}$. Tuttavia, un modo più logico di scriverle è il seguente:\n",
    "$$\\frac{\\partial \\boldsymbol{u}}{\\partial t} =  - \\boldsymbol{u} \\cdot \\nabla\\boldsymbol{u} -\\frac{1}{\\rho}\\nabla p,$$\n",
    "dove il membro di destra contiene tutti i termini che contribuiscono alla variazione del campo delle velocità nel tempo. In quest'ultima forma, il primo termine del secondo membro dell'equazione rappresenta il fenomento che viene chiamato \"avvezione\", ovvero l'evoluzione del campo delle velocità dovuto al campo stesso. In termini fisici, se la velocità in cascun punto rappresentasse la velocità di una particella, l'avvezzione sarebbe lo sambio di momento tra le particelle del fluido.\n",
    "\n",
    "Esiste poi una condizione aggiuntiva, opzionale, ma che decidiamo di rispettare nella simulazione: l'incomprimibilità del fluido. Sappiamo che la varianzione della quantità di materia contenuta in un certo volume di fluido nel tempo è proporzionale al flusso del liquido attraverso la superficie del volume. Attraverso il teorema della divergenza, questa relazione conduce all'equazione di continuità\n",
    "$$\\frac{\\partial \\rho}{\\partial t} = - \\nabla \\cdot \\boldsymbol{u}.$$\n",
    "Richiedere che il fluido sia imcomprimibile è equivalente a richiedere che la sua densità rimanga constante nel tempo in ogni punto. Quindi la condizione di incomprimibilità diventa\n",
    "$$\\nabla \\cdot \\boldsymbol{u} = 0.$$\n",
    "\n",
    "### Risolvere l'equazione termine per termine\n",
    "La soluzione dell'equazione nella forma attuale è estremamente difficile, e si rischierebbe di produrre soluzioni instabili. Tuttavia esistono metodi molto accurati per risolvere equazioni che possiedono uno solo dei due termini di  che compaiono nel secondo membro dell'equazione [num], ossia\n",
    "$$\\frac{\\partial \\boldsymbol{u}}{\\partial t} =  - \\boldsymbol{u} \\cdot \\nabla\\boldsymbol{u}$$\n",
    "e\n",
    "$$\\frac{\\partial \\boldsymbol{u}}{\\partial t} =  - \\frac{1}{\\rho}\\nabla p.$$\n",
    "\n",
    "In questa prospettiva, per combinare il contributi delle due equazioni separate, si usa la soluzione numerica della prima come punto di partenza per la seconda. Questa operazione è legittima dal punto di vista numerico. Per mostrare questo fatto, consideriamo un caso semplificato\n",
    "$$\\dot{x}(t) = f(x) + g(x)$$\n",
    "L'approssimazione numerica che utilizzeremo sarà la più semplice, cioè il metodo di Eulero.\n",
    "L'operazione descritta sopra equivale a\n",
    "\\begin{align}\n",
    "x^{t+\\frac{1}{2}} &= x^t + \\Delta t\\ f(x^t) \\\\\n",
    "x^{t+1} &= x^{t+\\frac{1}{2}} + \\Delta t\\ g(x^{t+\\frac{1}{2}})\n",
    "\\end{align}\n",
    "Scrivendo lo sviluppo in serie di $x(t)$ troncato al prim'ordine ci accorgiamo che l'errore commesso con il metodo di Eulero è dell'ordine di $o(\\Delta t)$\n",
    "$$x(t+\\Delta t) = x(t) + \\frac{dx(t)}{dt}\\Delta t + o(\\Delta t) = x(t) + f(x)\\Delta t + o(\\Delta t)$$\n",
    "Il secondo passo, cioè quello che produce $x^{t+1}$, può essere allora riscritto come\n",
    "\n",
    "\\begin{align}\n",
    "x^{t+1} &= x^t + \\Delta t\\ f(x^t) + \\Delta t\\ g(x^t + \\Delta t\\ f(x^t)) + 2 o(\\Delta t) \\\\\n",
    "        &= x^t + \\Delta t \\left(f(x^t) + g(x^t) + o(1)\\right) + o(\\Delta t) \\\\\n",
    "        &= x^t + \\Delta t \\left(f(x^t) + g(x^t)\\right) + \\Delta t \\ o(1) + o(\\Delta t) \\\\\n",
    "        &= x^t + \\Delta t \\left(f(x^t) + g(x^t)\\right) + o(\\Delta t)\n",
    "\\end{align}\n",
    "Quest'ultima espressione è identica a quella che avremmo ottenuto applicando direttamente il medoto di Eulero all'equazione completa.\n",
    "\n"
   ]
  },
  {
   "cell_type": "markdown",
   "metadata": {
    "collapsed": true
   },
   "source": [
    "### Rendere il fluido incomprimibile\n",
    "Partiamo dall'equazione più complessa da risolvere, cioè quella della pressione [eq press].\n",
    "Fino ad ora non è stato specificato nulla sulla pressione. In un fluido incompribile la densità rimane sempre consante in ogni punto, quindi sembrerebbe inutile mantenere nell'equazione un termine che dipende dalla pressione. Tuttavia è possibile combinare questa equazione con la [div = 0] per ottenere un campo di pressione tale per cui quando si applica la [eq press] il campo delle velocita' risultante ha divergenza nulla, cioè diventa incomprimibile. Inoltre le condizioni al contorno della pressione possono essere scelte in maniera da imporre le condizioni al contorno per $\\boldsymbol{u}$ che si desiderano. Questo risultato si ottiene applicando l'operatore divergenza ad entrambi i membri di [eq press]\n",
    "\\begin{align}\n",
    "\\nabla \\cdot \\frac{\\partial \\boldsymbol{u}}{\\partial t} &= \\nabla \\cdot \\left( - \\frac{1}{\\rho}\\nabla p\\right) \\\\\n",
    "\\frac{\\partial }{\\partial t}\\nabla \\cdot \\boldsymbol{u} &= -\\frac{1}{\\rho} \\nabla \\cdot \\nabla p \\\\\n",
    "\\frac{\\partial }{\\partial t}\\nabla \\cdot \\boldsymbol{u} &= -\\frac{1}{\\rho} \\nabla^2 p \\\\\n",
    "\\end{align}\n",
    "Ora approssimiamo la derivata temporale che compare nel secondo membro\n",
    "$$\\frac{1}{\\rho} \\nabla^2 p = -\\frac{{\\nabla \\cdot \\boldsymbol{u}}^{t+1} - {\\nabla \\cdot \\boldsymbol{u}}^{t}}{\\Delta t}$$\n",
    "Imponiamo allora la condizione richiesta sopra, cioè richiediamo che l'effetto di p in [eq press] sia quello direndentere la divergenza di $\\boldsymbol{u}$ nulla. Questo significa esattamente imporre $\\nabla \\cdot \\boldsymbol{u}^{t+1} = 0$. Quindi si trova\n",
    "$$\\frac{\\Delta t}{\\rho} \\nabla^2 p = {\\nabla \\cdot \\boldsymbol{u}}^t$$\n",
    "Le equazioni della forma $\\nabla^2 \\varphi = f$ sono note come equazioni di Poisson. Il coefficiente che compare nel primo membro può essere mascherato portandolo dentro l'operatore laplaciano e definendo una nuova pressione $p' = \\frac{\\Delta t}{\\rho}p$. Questa operazione può essere fatta anche nella discretizzazopme di [eq press]\n",
    "$$\\boldsymbol{u}^{t+1} = \\boldsymbol{u}^t - \\nabla \\left(\\frac{\\Delta t}{\\rho}p \\right) = \\boldsymbol{u}^t - \\nabla p'$$\n",
    "\n",
    "L'equazione sarà risolta il 2 dimensioni, quindi per discretizzare un campo (vettoriale o scalare) in 2 dimensioni si considera un reticolo di punti, e a ciascuno di questi associeremo uno o più valori, in base al tipo di campo. Per indicare il valore di un campo in un certo punto del reticolo si usa la notazione $x_{i, j}$. L'equazione discretizzata che discende da [poisson] è\n",
    "$$\\frac{p_{i,j+1}+p_{i,j-1}+p_{i+1,j}+p_{i-1,j}-4p_{i,j}}{{\\Delta x}^2} = {\\nabla \\cdot \\boldsymbol{u}}^t$$\n",
    "\n",
    "La discretizzazione della divergenza più immediata sarebbe\n",
    "$$\\frac{u_{i,j+1} - u_{i,j-1}}{2 \\Delta x} + \\frac{v_{i+1,j} - v_{i-1,j}}{2 \\Delta x}$$\n",
    "\n",
    "L'obiettivo finale però è ottenere una soluzione che contempli accuratamente la presenza di una _parete solida_ descritta da una curva chiusa di forma arbitraria. In prossimità del confine tra la parete ed il fluido l'approssimazione che abbiamo scritto sopra risulta in certi casi molto rozza. Per trovare un'espressione più adeguata partiamo dalla definizione della divergenza stessa, cioè il rapportro tra il flusso uscente da un cella infinitesima e la sua area. Per una normale cella quadrata vale\n",
    "\n",
    "$$\\nabla \\cdot \\boldsymbol{u} \\equiv \\lim_{\\Delta x \\to 0} \\frac{L u(x + \\Delta x, y) - L u(x - \\Delta x, y) + L v(x, y + \\Delta x) - L v(x, y - \\Delta x)}{A}$$\n",
    "I segni al numeratore sono determinati calcolando il prodotto scalare tra il vettore velocità e la normale perimetri della cella uscente. Siccome per la cella quadrata le normali sono sempre parallele ad uno dei due assi cartesiani, per ciascun prodotto scalare compare una sola delle due componenti della velocità. \n",
    "$L$ e $A$, cioè lato e area della cella, sono rispettivamente $2 \\Delta x$ e $4 {\\Delta x}^2$. Eseguendo questa sostitituzione otterremmo l'approssimazione già scritta sopra. Tuttavia questa definizione è utile perché possiamo dedurne una generalizzazione. Tutte le velocità sono valutate a metà del lato della cella corrispondente e poi sono moltiplicate per il la sua lunghezza. Se la parete attraversa la cella non possiamo più considerarla quadrata, e quindi la nostra approssimazione deve essere rimpiazzata. Almeno un lato della cella quadrata è parzialmente contenuto nella parete. Di conseguenza i lati della nuova cella non sono tutti di lunghezza $2 \\Delta x$, ma dovranno tenere conto solo della porzione che rimane fouri dalla parate. Inotre la presenza del perimetro della parete forma un nuovo lato. Il punto medio del nuovo lato però non coincide con nessuno dei punti del reticolo, quindi bisogna escogitare un metodo per calcolare la velocità che non si trovano sul reticolo. Il metodo che utizzeremo sarà interpolare i campi scalari costituiti dalle componenti della velocità con delle splines 2D (per ciascuna componente della velocità su tutto il reticolo). Non entriamo subito nei dettagli ma lo rimandiamo la discussione di questa parte a dopo, quando lo stesso strumento ci servirà a soddisfare una seconda necessità. Ma ciò non basta: in tale punto la normale alla cella, che coincide con la normale alla parete, non sarà generalmente parallela a nessuno degli assi cartesiani. É necessario dunque calcolare la normale uscente in questo punto. Vogliamo però continuare a usare i punti del reticolo per quelli che si trovano al di fuori della parete, quindi le velocità in tali punti non saranno valutate a metà dei lati della cella quadrata come prima.\n",
    "\n",
    "Arriviamo ora al punto cruciale della caratteristica appena introdotta. Abbiamo bisogno di poter conoscere, per ciascuna cella, la lunghezza del segmento di parete che la attraversa, il punto medio del segmento e il vettore normale alla parete uscente in tale punto. La parete solida è rappresentata da una lista di punti, in cui l'ordine stabilisce quali punti sono collegati tra loro. Quindi due punti che consecutivi nella cella sono collegati da un segmento. Naturalmente, se vogliamo ottenere i segmenti completi che attraversano le celle, i punti di intersezione tra celle e parete devono essere anch'essi contenuti nella lista che determina la parte. Una funzione si occupa di questo compito, e garantisce che l'ordine in cui i nuovi punti sono inseriti sia consistente. Successivamente un'altra funzione, dato il centro di una cella, trova il segmento cercato. Una cella potrebbe esere attraversata dalla parete in due punti diversi. In questo caso la funzione genera una lista contenente tutti i segmenti trovati. Infine, un'ultima funzione si occupa di trovare lunghezza, punto medio e normale per ciascun segmento. Per organizzare in maniera efficiente i risultati di queste operazioni, esiste la classe `GridData` che istanzia un oggetto contentente un array 2D con le stesse dimensioni del reticolo. Ciascun elemento dell'array è a sua volta un oggetto creato da un'altra classe, che contiene tutte le infomazioni riguardanti una cella che ha come centro quello individuato dagli indici dell'array.\n",
    "\n",
    "Per calcolare la divergenza sono impiegate diverse matrici. Due di queste si occupano di calcolare il contributo delle velocità sul reticolo. Ciascuna calcola il temine che contiene una sola delle due componenti del campo delle velocità. Il problema di questo metodo è che con le matrici possiamo chiaramente utilizzare solo array 1D, mentre i gli array che contengono i valori delle velocità sono 2D. Inoltre non ci interssa calcolare la divergenza nei punti interni alla parete. Gli array utilizzati in python danno la possibilità di selezionare un sottoinsieme dei loro elementi attraverso una _maschera_, cioè un array con le stesse dimensioni ma che contiene solo valori booleani. Se si applica la maschera ad un array si ottiene un array 1D che contiene solo quei valori dell'array per cui il valore della maschera che si trova nella poszione corrispondente è `true`. Quindi è sufficiente creare una maschera che seleziona tutti e soli i punti esterni alla parete. Infine altre due matrici si occupano di calcolare il prodotto scalare della velocità con la normale nei punti interni alle celle. Anche qui ogni matrice si occupa di calcolare il termine del prodotto che contiene una delle due compomenti delle velocità. Lo stesso discorso delle maschere vale anche qui, ma chiaramente bisogna usare una maschera diversa, ovvero quella che stabilisce quali celle intersecano la parete. Infine la divergenza si ottiene sommando tutti i risultati. Abbiamo però array 1D con diverse lunghezze che devono essere inseriti in un array 2D e, dove le maschere hanno punti in comune, sommati tra loro. Le maschere introdotte prima funzionano anche al contrario, cioè possiamo modificare gli elementi di un array selezionati da una maschera. Quindi basta sommare separatamente ciascun array all'array 2D della divergenza, selezionando di volta in volta gli elementi di quest'ultimo con la maschera opportuna.\n",
    "\n",
    "Passiamo ora alla pressione. L'insieme delle equazioni della forma [num] per ciascun punto del reticolo esterno alla parete deve valere contemporaneamente, quindi formano un sistema da risolvere. Possiamo scrivere la matrice associata al sistema e calcolarne l'inversa. In questo modo una volta ottenuta la divergenza basta applicare la matrice inversa per trovare p. L'array della pressione che troviamo è 1D. Anche qui possiamo procedere come nel caso della divergenza.\n",
    "[matrici sparse e conjugate gradient]\n",
    "\n",
    "\n",
    "Rimane ancora da discutere come imporre le condizioni al contorno. Sapendo che le velocità all'interno della parete solida devono essere nulle, possiamo includere nell'insieme delle celle per cui risolviamo il sistema della pressione quelle che sono interne alla parete ma compaiono nell'equazioni di Poisson delle celle che si trovano in prossimità della parete e scegliere come valori della pressione delle celle circostanti interne alla parete che impongono la condizione di velocità nulla nei punti appena aggiunti.\n",
    "\n",
    "La regola di aggiornamento della pressione per le nuove celle può essere dicretizzata in più modi. Consideriamo come esempio solo la prima compoente della velocità\n",
    "\n",
    "$$ u'_{i, j} = u_{i, j} - \\frac{p_{i, j+1}-p_{i, j}}{\\Delta x}$$\n",
    "$$ u'_{i, j} = u_{i, j} - \\frac{p_{i, j}-p_{i, j-1}}{\\Delta x}$$\n",
    "$$ u'_{i, j} = u_{i, j} - \\frac{p_{i, j+1}-p_{i, j-1}}{2\\Delta x}$$\n",
    "Prendiamo in considerazione le prime due. Invertendo le due equazioni troviamo che le pressioni $p_{i, j \\pm 1}$ valgono\n",
    "$$p_{i, j \\pm 1} = p_{i, j} \\mp (u'_{i, j} - u_{i, j})$$\n",
    "Imponiamo adesso che la velocità al tempo successivo sia nulla, cioè $u'_{i, j} = 0$, e troviamo\n",
    "$$p_{i, j \\pm 1} = p_{i, j} \\pm u_{i, j}$$\n",
    "Analogamente per la seconda componente della velocità si trova\n",
    "$$p_{i \\pm 1, j} = p_{i, j} \\pm v_{i, j}$$\n",
    "Scegliamo di usare una una delle quattro equazioni in base a quale sia la posizione della cella per cui non risolviamo l'equazione di Poisson.\n",
    "Si può notare che questo metodo ha una carattesistica decisamente insolita. Uno dei punti del reticolo per cui produciamo un valore artificiale della pressione può essere vicino di due punti distinti per i quali calcoliamo la pressione. Quando ciò accade, il il valore artificiale è diverso per le due celle! Nonostante questo possa apparire poco sensato dal punto di vista fisico, si tratta solo di un artificio, che viene in impiegato sono in punti dove normalmente non ci interessa calcolare la velocità. Questa nuova caratteristica introduce dei valori costanti nel sistema che dobbiamo risolvere, cioè quelli che contengono la velocità. Dato che non possono essere inseriti nella matrice, è necessario portarli al secondo menbro. Questo significa che saranno sottratti alla divergenza.\n",
    "\n",
    "### Aggiornamento delle velocità\n",
    "Una volta ottenuto l'array della pressione procediamo aggiornando le velocità. Esiste un'apposita sezione del programma che si occupa di questo. Il metodo che applichiamo sfrutto ancora una volta le maschere. Infatti anche in questo caso non vogliamo aggiornare la velocità in tutti i punti della griglia, ma solo in quelli per cui è stata calcolata la pressione. Lo schema utilizzato per la derivata è quella simmetrico, cioè\n",
    "$$\\frac{p_{i, j+1}-p_{i, j-1}}{2\\Delta x}$$\n",
    "oppure\n",
    "$$\\frac{p_{i+1, j}-p_{i-1, j}}{2\\Delta x}$$\n",
    "a seconda della componente della velocità. Quello che dobbiamo fare è ottenere delle versioni traslate della maschera che descrive i punti interessati di una posizione in tutte e quattro le direzioni. Qui ci accorgiamo che è necessario restringere i punti in cui aggiorniamo le velocità. Infatti per poter traslare per intero la maschera è necessario che essa non occupi nessuno del punti che si trovano sul bordo del reticolo. Come sono trattati questi punti varia da caso a caso e sarà spiegato in seguito quando ci occuperemo dell'applicazione pratica del sistema che stiamo costruendo. \n",
    "\n",
    "Applicando le maschere traslate alla pressione siamo in grado di calcolare le sue derivate parziali in tutti in una sola operazione. Infine non rimane che sottrarre ogni derivata all'array della corrispondente componente della velocità per ottenere le velocità aggiornate.\n"
   ]
  },
  {
   "cell_type": "markdown",
   "metadata": {
    "collapsed": true
   },
   "source": [
    "### Avvezione del fluido\n",
    "L'equazione parziale che rimane da risolvere è quella della derivata materiale, cioè\n",
    "$$\\frac{D \\boldsymbol{u}}{D t} = 0$$\n",
    "Immaginiamo seguire il percorso di un'ipotetica particella che compone il fluido. Grazie al campo vettoriale delle velocità conosciamo in ogni punto la velocità della particella. Allora la traiettoria della partcella può essere descritta dal seguente sistema di equazione differenziali\n",
    "$$\\begin{cases}\n",
    "\\dot{x} = u \\\\\n",
    "\\dot{y} = v\n",
    "\\end{cases}$$\n",
    "Se ora sostiuiamo queste equazioni della derivata materiale troviamo\n",
    "$$u\\frac{\\partial u}{\\partial x} + v\\frac{\\partial u}{\\partial y} + \\frac{\\partial u}{\\partial t} = \n",
    "\\frac{\\partial u}{\\partial x}\\frac{dx}{dt} + \\frac{\\partial u}{\\partial y}\\frac{dy}{dt} + \\frac{\\partial u}{\\partial t}$$\n",
    "e\n",
    "$$u\\frac{\\partial v}{\\partial x} + v\\frac{\\partial v}{\\partial y} + \\frac{\\partial v}{\\partial t} = \n",
    "\\frac{\\partial v}{\\partial x}\\frac{dx}{dt} + \\frac{\\partial v}{\\partial y}\\frac{dy}{dt} + \\frac{\\partial u}{\\partial t}$$\n",
    "Ma queste non sono altro che le derivate totali delle due componenti delle velocità rispetto al tempo, quindi infine troviamo\n",
    "$$\\frac{d \\boldsymbol{u}}{dt} = 0$$\n",
    "Approssimando la derivata troviamo\n",
    "$$\\frac{\\boldsymbol{u}(x(t+\\Delta t), y(t+\\Delta t), t+\\Delta t) - \\boldsymbol{u}(x(t), y(t), t)}{\\Delta t} = 0$$\n",
    "e quindi\n",
    "$$\\boldsymbol{u}(x(t+\\Delta t), y(t+\\Delta t), t+\\Delta t) = \\boldsymbol{u}(x(t), y(t), t)$$\n",
    "\n",
    "\n",
    "Le due coordinate $x(t+\\Delta t)$ e $y(t+\\Delta t)$ si possono trovare integrando numericamente il sistema scritto prima. Il metodo che utilizzaremo sarà quellod i Runge-Kutta al $4^{\\circ}$ ordine. Chiaramente conosciamo le velocità nei punti del reticolo, quindi le due posizioni iniziali che considereremo saranno solo i nodi del reticolo. Tuttavia le posizione che si ottengono integrando i sistema non si trovano sul reticolo. È qui che risulta essenziale utilizzare l'interpolazione mediante splines. Per rendere più stabile sistema di risoluzione conviente eseguire questo procedimento al contrario, cioè integrare il sistema a ritroso nel tempo. Procedere in questo modo equivale a trovare quella posizione iniziale della particella per cui dopo un tempo $\\Delta t$ essa si trova esattamente sul nodo del reticolo da dove parte l'integrazione del sistema.\n",
    "\n",
    "Ritornando alle splines, bisogna eseguire un'interpolazione per ciascuna componente delle velocità. Siccome questo processo è dispendioso dal punto di vista computazionale, la parte del programma che si occupa di questo è scritta in C, che si interfaccia poi a Python."
   ]
  },
  {
   "cell_type": "markdown",
   "metadata": {},
   "source": [
    "## La simulazione\n",
    "Tutto il sistema di risuluzione delle equazioni costruito fino ad ora lo applicheremo in una situazione che assomiglia ad una galleria del vento. Il reticolo è rettangolare, con la lunghezza ben maggiore della lunghezza. Il flusso proviene da sinistra, con una valore iniziale della componente $x$ della velocità che scegliamo arbitrariamente. Questa velocità viene inserita sul lato sinistro in cui la velocità non viene aggiornata, quindi rimane inalterato fino a che decidiamo di cambiarla manualmente. Inoltre l'array che rappresenta la le velocità inserite nel lato sinistro è smorzato gradualmente vicino agli estremi, in maniera che i due valori sugli estremi siano entrambi nulli.\n",
    "\n",
    "La parete solida rappresenta l'ostacolo incontrato dal flusso ed è una semplice circonferenza. Oltre a questa parete ne esistono altre due, una sul lato alto e una su quello basso, di forma rettangolare. Ciascuna include completamente uno tra i due lati. Queste due pareti rappresentano i confini della nostra galleria. Per il lato rimanente, cioè quello di destra, dobbiamo fare un'eccezione. Su questo lato non conosciamo la velocità, ma non vogliamo che interrompa il fluido e quindi non si può assumereche la velocità sia nulla. Quindi nei punti che confinanto con il lato destro decidiamo di non considerare il termine della divergenza che contiene la derivata lungo la $x$. L'ultimo punto da discutere è la condizione da imporre sui due lati che non si trovano all'interno di pareti. Siccome non esistono particolari necessità riguardo questi punti, facciamo la scielta meno restrittiva e imponiamo che la derivata della pressione nulla lungo la $x$, che equivale a imporre che in ciascun punto sul lato di confine la pressione abbia lo stesso valore della cella vicina che si trova tra quelle per cui risolviamo il sistema. Dato che non calcoliamo esplicitamente la pressione sui due bordi del reticolo imponiamo la condizione in forma implicita nell'equazione di Poissono discretizzata nei punti che confinano con i due lati. Cioè portiamo il coefficiente della posizione centrale da -4 a -3 e inseriamo nella matrice solo i coefficienti corrispondenti allle tre direzioni che rimangono."
   ]
  },
  {
   "cell_type": "code",
   "execution_count": null,
   "metadata": {
    "collapsed": true
   },
   "outputs": [],
   "source": []
  }
 ],
 "metadata": {
  "kernelspec": {
   "display_name": "Python 3",
   "language": "python",
   "name": "python3"
  },
  "language_info": {
   "codemirror_mode": {
    "name": "ipython",
    "version": 3
   },
   "file_extension": ".py",
   "mimetype": "text/x-python",
   "name": "python",
   "nbconvert_exporter": "python",
   "pygments_lexer": "ipython3",
   "version": "3.6.2"
  }
 },
 "nbformat": 4,
 "nbformat_minor": 2
}
